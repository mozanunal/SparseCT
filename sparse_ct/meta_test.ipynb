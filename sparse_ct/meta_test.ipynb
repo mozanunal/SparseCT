{
 "cells": [
  {
   "cell_type": "code",
   "execution_count": 7,
   "metadata": {},
   "outputs": [],
   "source": [
    "from reconstructor_2d.n2self import EllipsesDataset\n",
    "\n",
    "from model.dncnn import DnCNN\n",
    "import torch\n",
    "from torch import nn"
   ]
  },
  {
   "cell_type": "code",
   "execution_count": 64,
   "metadata": {},
   "outputs": [],
   "source": [
    "net = DnCNN(1, 1, 3)\n",
    "opt = torch.optim.SGD(net.parameters(), lr=0.1)\n",
    "meta_opt = torch.optim.SGD(net.parameters(), lr=0.1)\n",
    "loss_f = torch.nn.MSELoss()\n",
    "out = None\n",
    "inp = torch.rand(7,1,64,64)"
   ]
  },
  {
   "cell_type": "code",
   "execution_count": 171,
   "metadata": {},
   "outputs": [
    {
     "data": {
      "text/plain": [
       "tensor([0.5948, 0.2093, 1.3741, 0.5854, 0.4227, 0.9916, 0.5946, 0.8938, 2.0383,\n",
       "        2.3203, 0.4279, 0.8298, 0.6091, 0.1151, 0.0965, 1.9600, 0.1279, 0.9680,\n",
       "        0.4559, 0.9887, 0.3100, 0.1955, 1.2138, 0.7685, 0.2519, 0.2358, 0.3630,\n",
       "        0.3475, 0.2911, 0.7295, 0.7370, 0.1108, 1.3217, 0.1342, 0.6537, 0.2640,\n",
       "        0.1681, 0.3207, 0.3587, 0.3231, 0.2359, 0.2697, 0.7091, 0.5525, 1.3581,\n",
       "        0.5567, 0.3437, 0.5389, 0.2886, 0.4412, 0.3760, 1.0820, 0.4472, 0.5704,\n",
       "        0.3166, 0.2013, 0.1544, 0.3027, 1.2195, 2.6369, 0.9107, 0.2457, 0.4593,\n",
       "        0.1005])"
      ]
     },
     "execution_count": 171,
     "metadata": {},
     "output_type": "execute_result"
    }
   ],
   "source": [
    "\n",
    "opt.zero_grad()\n",
    "l = loss_f( net(inp), inp )\n",
    "l.backward(retain_graph=True)\n",
    "#opt.step()\n",
    "meta_opt.zero_grad()\n",
    "meta_opt.step()\n",
    "net.state_dict()['dncnn.3.running_var']"
   ]
  },
  {
   "cell_type": "code",
   "execution_count": 172,
   "metadata": {},
   "outputs": [
    {
     "data": {
      "text/plain": [
       "tensor(0.3322, grad_fn=<MseLossBackward>)"
      ]
     },
     "execution_count": 172,
     "metadata": {},
     "output_type": "execute_result"
    }
   ],
   "source": []
  },
  {
   "cell_type": "code",
   "execution_count": null,
   "metadata": {},
   "outputs": [],
   "source": []
  }
 ],
 "metadata": {
  "kernelspec": {
   "display_name": "Python 3",
   "language": "python",
   "name": "python3"
  },
  "language_info": {
   "codemirror_mode": {
    "name": "ipython",
    "version": 3
   },
   "file_extension": ".py",
   "mimetype": "text/x-python",
   "name": "python",
   "nbconvert_exporter": "python",
   "pygments_lexer": "ipython3",
   "version": "3.7.6"
  }
 },
 "nbformat": 4,
 "nbformat_minor": 4
}
